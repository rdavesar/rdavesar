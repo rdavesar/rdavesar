{
  "nbformat": 4,
  "nbformat_minor": 0,
  "metadata": {
    "colab": {
      "provenance": []
    },
    "kernelspec": {
      "name": "python3",
      "display_name": "Python 3"
    },
    "language_info": {
      "name": "python"
    }
  },
  "cells": [
    {
      "cell_type": "code",
      "execution_count": 3,
      "metadata": {
        "colab": {
          "base_uri": "https://localhost:8080/"
        },
        "id": "FWZMdKS-GAw2",
        "outputId": "8a1955ad-5e55-4a6c-e73a-e9600748c94b"
      },
      "outputs": [
        {
          "output_type": "stream",
          "name": "stdout",
          "text": [
            "Enter patient's name: rdavesar\n",
            "Enter patient's age: 15\n",
            "Enter patient's ID: 213\n",
            "Enter patient's disease: cold\n",
            "Enter patient's gender: male\n",
            " Patient Name: rdavesar_ Patient's age: 15_ Patient ID: 213_Patient Gender male_cold\n"
          ]
        }
      ],
      "source": [
        "class patient:\n",
        "  # Constructor\n",
        "  def __init__(self,name = \"\",disease = \"\",gender = \"\",age = 00,pid = 000):\n",
        "    self.name = name\n",
        "    self.disease = disease\n",
        "    self.gender = gender\n",
        "    self.age = age\n",
        "    self.pid = pid\n",
        "\n",
        "# Getters  # TURN THIS INTO SETTERS GETTERS CH VALUE RETURN KRNI A\n",
        "  def get_name(self):\n",
        "    return self.name\n",
        "  def get_disease(self):\n",
        "    return self.disease\n",
        "\n",
        "  def get_gender(self):\n",
        "    return self.gender\n",
        "\n",
        "  def get_age(self):\n",
        "    return self.age\n",
        "\n",
        "  def get_pid(self):\n",
        "    return self.pid\n",
        "#setters\n",
        "  def set_name(self,new_name):\n",
        "    self.name = new_name\n",
        "  def get_disease(self,new_disease):\n",
        "    self.disease = new_disease\n",
        "\n",
        "  def get_gender(self,new_gender):\n",
        "    self.gender = new_gender\n",
        "\n",
        "  def get_age(self,new_age):\n",
        "    self.age = new_age\n",
        "\n",
        "  def get_pid(self,new_pid):\n",
        "    self.pid = new_pid\n",
        "\n",
        "\n",
        "  def __str__(self):\n",
        "        #Returns a string representation of the Patient object with properties separated by underscores or none if nothing entered\n",
        "        return f\"Patient Name: {self.name or 'None'}_ Patient's age: {self.age or 'None'}_ Patient ID: {self.pid or 'None'}_Patient Gender {self.gender or 'None'}_{self.disease or 'None'}\"\n",
        "\n",
        "def create_patient():\n",
        "  name = input(\"Enter patient's name: \")\n",
        "  age = int(input(\"Enter patient's age: \"))\n",
        "  pid = int(input(\"Enter patient's ID: \"))\n",
        "  disease = input(\"Enter patient's disease: \")\n",
        "  gender = input(\"Enter patient's gender: \")\n",
        "\n",
        "  patient1 = patient(name, disease, gender, age, pid)\n",
        "  return patient1\n",
        "\n",
        "patient1 = create_patient()\n",
        "print(patient1)\n"
      ]
    }
  ]
}